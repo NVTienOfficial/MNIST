{
  "nbformat": 4,
  "nbformat_minor": 0,
  "metadata": {
    "colab": {
      "name": "MNIST.ipynb",
      "provenance": [],
      "collapsed_sections": []
    },
    "kernelspec": {
      "name": "python3",
      "display_name": "Python 3"
    },
    "language_info": {
      "name": "python"
    }
  },
  "cells": [
    {
      "cell_type": "code",
      "source": [
        "# install package, library\n",
        "# !pip install keras"
      ],
      "metadata": {
        "id": "xplwU1Tal-x9"
      },
      "execution_count": 1,
      "outputs": []
    },
    {
      "cell_type": "markdown",
      "source": [
        "#Import library"
      ],
      "metadata": {
        "id": "YSwv9GTclEpc"
      }
    },
    {
      "cell_type": "code",
      "execution_count": 2,
      "metadata": {
        "id": "N40Ac1sA8M25"
      },
      "outputs": [],
      "source": [
        "import numpy as np\n",
        "import matplotlib.pyplot as plt\n",
        "%matplotlib inline\n",
        "import keras\n",
        "from keras.models import Sequential\n",
        "from keras.layers import Dense, Dropout, Conv2D, Flatten, MaxPooling2D\n",
        "from keras.utils.np_utils import to_categorical\n",
        "from sklearn.metrics import confusion_matrix\n",
        "import seaborn as sns\n",
        "from sklearn.model_selection import train_test_split\n",
        "from sklearn.metrics import confusion_matrix\n",
        "\n",
        "np.random.seed(0)"
      ]
    },
    {
      "cell_type": "markdown",
      "source": [
        "#Data"
      ],
      "metadata": {
        "id": "owADVuopmLBQ"
      }
    },
    {
      "cell_type": "code",
      "source": [
        "# MNIST dataset shape\n",
        "from keras.datasets import mnist\n",
        "\n",
        "(train_X, train_y), (test_X, test_y) = mnist.load_data()\n",
        "\n",
        "print(\"Train X: \", str(train_X.shape))\n",
        "print(\"Train y: \", str(train_y.shape))\n",
        "print(\"Test X:  \", str(test_X.shape))\n",
        "print(\"Test y:  \", str(test_y.shape))"
      ],
      "metadata": {
        "colab": {
          "base_uri": "https://localhost:8080/"
        },
        "id": "dIiCNEa3l6Ny",
        "outputId": "3d04dc4e-3caa-4a03-f319-3cdfdc767585"
      },
      "execution_count": 3,
      "outputs": [
        {
          "output_type": "stream",
          "name": "stdout",
          "text": [
            "Train X:  (60000, 28, 28)\n",
            "Train y:  (60000,)\n",
            "Test X:   (10000, 28, 28)\n",
            "Test y:   (10000,)\n"
          ]
        }
      ]
    },
    {
      "cell_type": "code",
      "source": [
        "# Visualize sample\n",
        "num_classes = 10\n",
        "\n",
        "f, ax = plt.subplots(1, num_classes, figsize=(20, 20))\n",
        "\n",
        "for i in range(0, num_classes):\n",
        "  sample = train_X[train_y == i][0]\n",
        "  ax[i].imshow(sample, cmap='gray')\n",
        "  ax[i].set_title(\"Label {}\".format(i), fontsize=16)"
      ],
      "metadata": {
        "colab": {
          "base_uri": "https://localhost:8080/",
          "height": 160
        },
        "id": "4qXGT0UKm5Fh",
        "outputId": "c1f59226-90a6-42a9-acc1-e19a09b1d239"
      },
      "execution_count": 4,
      "outputs": [
        {
          "output_type": "display_data",
          "data": {
            "image/png": "[encoded data removed]",
            "text/plain": [
              "<Figure size 1440x1440 with 10 Axes>"
            ]
          },
          "metadata": {
            "needs_background": "light"
          }
        }
      ]
    },
    {
      "cell_type": "code",
      "source": [
        "# Check null and missing value in train and test set\n",
        "\n",
        "print(np.isnan(np.sum(train_X)))\n",
        "print(np.isnan(np.sum(test_X)))"
      ],
      "metadata": {
        "colab": {
          "base_uri": "https://localhost:8080/"
        },
        "id": "2HiN3HcEx_WP",
        "outputId": "eb9300c5-faf0-4d53-bd25-24ce9b1e39a2"
      },
      "execution_count": 5,
      "outputs": [
        {
          "output_type": "stream",
          "name": "stdout",
          "text": [
            "False\n",
            "False\n"
          ]
        }
      ]
    },
    {
      "cell_type": "markdown",
      "source": [
        "# Preprocessing"
      ],
      "metadata": {
        "id": "mhVd7qIfzCth"
      }
    },
    {
      "cell_type": "code",
      "source": [
        "# Normalization\n",
        "\n",
        "train_X = train_X / 255.0\n",
        "test_X = test_X / 255.0"
      ],
      "metadata": {
        "id": "i-5w2JnSzAwT"
      },
      "execution_count": 6,
      "outputs": []
    },
    {
      "cell_type": "code",
      "source": [
        "# First dataset: parsing dataset from 2D array image into 1D array\n",
        "\n",
        "train_X1 = train_X.reshape(train_X.shape[0], -1)\n",
        "test_X1 = test_X.reshape(test_X.shape[0], -1)\n",
        "\n",
        "# Second dataset: remain 2D array image\n",
        "\n",
        "train_X2 = train_X\n",
        "test_X2 = test_X"
      ],
      "metadata": {
        "id": "NsqNyifAzLMw"
      },
      "execution_count": 7,
      "outputs": []
    },
    {
      "cell_type": "code",
      "source": [
        "# Encoding label\n",
        "\n",
        "train_y = to_categorical(train_y, num_classes)\n",
        "test_y = to_categorical(test_y, num_classes)"
      ],
      "metadata": {
        "id": "sB3UwkoXzvNe"
      },
      "execution_count": 8,
      "outputs": []
    },
    {
      "cell_type": "code",
      "source": [
        "# Split into train and valid set\n",
        "\n",
        "X1_train, X1_test, y1_train, y1_test = train_test_split(train_X1, train_y, test_size=0.1, random_state=3)\n",
        "\n",
        "X2_train, X2_test, y2_train, y2_test = train_test_split(train_X2, train_y, test_size=0.1, random_state=3)\n",
        "\n",
        "print(\"Train shape (dataset 1): X = {}, y = {}\".format(X1_train.shape, y1_train.shape))\n",
        "print(\"Train shape (dataset 2): X = {}, y = {}\".format(X2_train.shape, y2_train.shape))"
      ],
      "metadata": {
        "colab": {
          "base_uri": "https://localhost:8080/"
        },
        "id": "lDjY0K0tkRfT",
        "outputId": "2a579f95-9e62-4669-cca3-c67fa4954c9c"
      },
      "execution_count": 9,
      "outputs": [
        {
          "output_type": "stream",
          "name": "stdout",
          "text": [
            "Train shape (dataset 1): X = (54000, 784), y = (54000, 10)\n",
            "Train shape (dataset 2): X = (54000, 28, 28), y = (54000, 10)\n"
          ]
        }
      ]
    },
    {
      "cell_type": "markdown",
      "source": [
        "# Model"
      ],
      "metadata": {
        "id": "5Bkg4LMA1DX3"
      }
    },
    {
      "cell_type": "markdown",
      "source": [
        "\n",
        "\n",
        "1.   Model receiving 1D array\n",
        "\n"
      ],
      "metadata": {
        "id": "6dMmCt371Fs4"
      }
    },
    {
      "cell_type": "code",
      "source": [
        "input_shape1 = (784,)\n",
        "\n",
        "model1 = Sequential()\n",
        "model1.add(Dense(units=32, activation='relu', input_shape=input_shape1))\n",
        "model1.add(Dense(units=32, activation='relu'))\n",
        "model1.add(Dropout(0.25))\n",
        "model1.add(Dense(units=10, activation='softmax'))\n",
        "\n",
        "model1.compile(loss='categorical_crossentropy', optimizer='adam', metrics='accuracy')\n",
        "\n",
        "model1.summary()"
      ],
      "metadata": {
        "id": "6udbt-a6xST4",
        "colab": {
          "base_uri": "https://localhost:8080/"
        },
        "outputId": "a3c00b64-a28a-4bb9-e6f5-b0cc1379909a"
      },
      "execution_count": 10,
      "outputs": [
        {
          "output_type": "stream",
          "name": "stdout",
          "text": [
            "Model: \"sequential\"\n",
            "_________________________________________________________________\n",
            " Layer (type)                Output Shape              Param #   \n",
            "=================================================================\n",
            " dense (Dense)               (None, 32)                25120     \n",
            "                                                                 \n",
            " dense_1 (Dense)             (None, 32)                1056      \n",
            "                                                                 \n",
            " dropout (Dropout)           (None, 32)                0         \n",
            "                                                                 \n",
            " dense_2 (Dense)             (None, 10)                330       \n",
            "                                                                 \n",
            "=================================================================\n",
            "Total params: 26,506\n",
            "Trainable params: 26,506\n",
            "Non-trainable params: 0\n",
            "_________________________________________________________________\n"
          ]
        }
      ]
    },
    {
      "cell_type": "markdown",
      "source": [
        "2. Model receiving 2D array"
      ],
      "metadata": {
        "id": "cqIWDg-m1o-m"
      }
    },
    {
      "cell_type": "code",
      "source": [
        "input_shape2 = (28, 28, 1)\n",
        "\n",
        "model2 = Sequential()\n",
        "model2.add(Conv2D(filters=32, kernel_size=(3, 3), padding='Same', activation='relu', input_shape=input_shape2))\n",
        "model2.add(MaxPooling2D(pool_size=(2, 2), strides=(2, 2)))\n",
        "model2.add(Dropout(0.25))\n",
        "model2.add(Flatten())\n",
        "model2.add(Dense(num_classes, activation='softmax'))\n",
        "\n",
        "model2.compile(loss='categorical_crossentropy', optimizer='adam', metrics='accuracy')\n",
        "\n",
        "model2.summary()"
      ],
      "metadata": {
        "colab": {
          "base_uri": "https://localhost:8080/"
        },
        "id": "oUbpuU-vxpgZ",
        "outputId": "30a33ffe-f46b-45b6-cd1b-d58cd10dc321"
      },
      "execution_count": 11,
      "outputs": [
        {
          "output_type": "stream",
          "name": "stdout",
          "text": [
            "Model: \"sequential_1\"\n",
            "_________________________________________________________________\n",
            " Layer (type)                Output Shape              Param #   \n",
            "=================================================================\n",
            " conv2d (Conv2D)             (None, 28, 28, 32)        320       \n",
            "                                                                 \n",
            " max_pooling2d (MaxPooling2D  (None, 14, 14, 32)       0         \n",
            " )                                                               \n",
            "                                                                 \n",
            " dropout_1 (Dropout)         (None, 14, 14, 32)        0         \n",
            "                                                                 \n",
            " flatten (Flatten)           (None, 6272)              0         \n",
            "                                                                 \n",
            " dense_3 (Dense)             (None, 10)                62730     \n",
            "                                                                 \n",
            "=================================================================\n",
            "Total params: 63,050\n",
            "Trainable params: 63,050\n",
            "Non-trainable params: 0\n",
            "_________________________________________________________________\n"
          ]
        }
      ]
    },
    {
      "cell_type": "markdown",
      "source": [
        "# Training"
      ],
      "metadata": {
        "id": "LwazXsqp1xBr"
      }
    },
    {
      "cell_type": "markdown",
      "source": [
        "1. Model 1D"
      ],
      "metadata": {
        "id": "OwEu4HbL2wFJ"
      }
    },
    {
      "cell_type": "code",
      "source": [
        "batch_size = 512\n",
        "epochs = 50\n",
        "\n",
        "model1.fit(x=X1_train, y=y1_train, batch_size=batch_size, epochs=epochs)\n",
        "\n",
        "test_loss, test_acc = model1.evaluate(X1_test, y1_test)\n",
        "\n",
        "print('Accuracy: {}, Loss: {}'.format(test_acc, test_loss))"
      ],
      "metadata": {
        "colab": {
          "base_uri": "https://localhost:8080/"
        },
        "id": "-tiTgbdQbTPM",
        "outputId": "6dcd4f4b-523c-4d04-81c8-3a0f429a16ed"
      },
      "execution_count": 12,
      "outputs": [
        {
          "output_type": "stream",
          "name": "stdout",
          "text": [
            "Epoch 1/50\n",
            "106/106 [==============================] - 3s 12ms/step - loss: 1.2638 - accuracy: 0.6028\n",
            "Epoch 2/50\n",
            "106/106 [==============================] - 1s 11ms/step - loss: 0.5517 - accuracy: 0.8384\n",
            "Epoch 3/50\n",
            "106/106 [==============================] - 1s 10ms/step - loss: 0.4252 - accuracy: 0.8782\n",
            "Epoch 4/50\n",
            "106/106 [==============================] - 1s 11ms/step - loss: 0.3616 - accuracy: 0.8955\n",
            "Epoch 5/50\n",
            "106/106 [==============================] - 1s 10ms/step - loss: 0.3223 - accuracy: 0.9080\n",
            "Epoch 6/50\n",
            "106/106 [==============================] - 1s 11ms/step - loss: 0.2970 - accuracy: 0.9154\n",
            "Epoch 7/50\n",
            "106/106 [==============================] - 1s 9ms/step - loss: 0.2707 - accuracy: 0.9224\n",
            "Epoch 8/50\n",
            "106/106 [==============================] - 1s 11ms/step - loss: 0.2496 - accuracy: 0.9291\n",
            "Epoch 9/50\n",
            "106/106 [==============================] - 1s 11ms/step - loss: 0.2362 - accuracy: 0.9327\n",
            "Epoch 10/50\n",
            "106/106 [==============================] - 1s 11ms/step - loss: 0.2244 - accuracy: 0.9359\n",
            "Epoch 11/50\n",
            "106/106 [==============================] - 1s 10ms/step - loss: 0.2125 - accuracy: 0.9391\n",
            "Epoch 12/50\n",
            "106/106 [==============================] - 1s 10ms/step - loss: 0.2026 - accuracy: 0.9421\n",
            "Epoch 13/50\n",
            "106/106 [==============================] - 1s 11ms/step - loss: 0.1926 - accuracy: 0.9439\n",
            "Epoch 14/50\n",
            "106/106 [==============================] - 1s 10ms/step - loss: 0.1866 - accuracy: 0.9466\n",
            "Epoch 15/50\n",
            "106/106 [==============================] - 1s 10ms/step - loss: 0.1782 - accuracy: 0.9494\n",
            "Epoch 16/50\n",
            "106/106 [==============================] - 1s 11ms/step - loss: 0.1706 - accuracy: 0.9505\n",
            "Epoch 17/50\n",
            "106/106 [==============================] - 1s 9ms/step - loss: 0.1647 - accuracy: 0.9528\n",
            "Epoch 18/50\n",
            "106/106 [==============================] - 1s 6ms/step - loss: 0.1587 - accuracy: 0.9543\n",
            "Epoch 19/50\n",
            "106/106 [==============================] - 1s 6ms/step - loss: 0.1529 - accuracy: 0.9558\n",
            "Epoch 20/50\n",
            "106/106 [==============================] - 1s 6ms/step - loss: 0.1458 - accuracy: 0.9573\n",
            "Epoch 21/50\n",
            "106/106 [==============================] - 1s 6ms/step - loss: 0.1440 - accuracy: 0.9585\n",
            "Epoch 22/50\n",
            "106/106 [==============================] - 1s 6ms/step - loss: 0.1401 - accuracy: 0.9583\n",
            "Epoch 23/50\n",
            "106/106 [==============================] - 1s 6ms/step - loss: 0.1344 - accuracy: 0.9607\n",
            "Epoch 24/50\n",
            "106/106 [==============================] - 1s 6ms/step - loss: 0.1319 - accuracy: 0.9609\n",
            "Epoch 25/50\n",
            "106/106 [==============================] - 1s 6ms/step - loss: 0.1327 - accuracy: 0.9605\n",
            "Epoch 26/50\n",
            "106/106 [==============================] - 1s 6ms/step - loss: 0.1244 - accuracy: 0.9632\n",
            "Epoch 27/50\n",
            "106/106 [==============================] - 1s 6ms/step - loss: 0.1241 - accuracy: 0.9633\n",
            "Epoch 28/50\n",
            "106/106 [==============================] - 1s 6ms/step - loss: 0.1206 - accuracy: 0.9648\n",
            "Epoch 29/50\n",
            "106/106 [==============================] - 1s 6ms/step - loss: 0.1151 - accuracy: 0.9654\n",
            "Epoch 30/50\n",
            "106/106 [==============================] - 1s 6ms/step - loss: 0.1144 - accuracy: 0.9663\n",
            "Epoch 31/50\n",
            "106/106 [==============================] - 1s 6ms/step - loss: 0.1100 - accuracy: 0.9679\n",
            "Epoch 32/50\n",
            "106/106 [==============================] - 1s 7ms/step - loss: 0.1075 - accuracy: 0.9674\n",
            "Epoch 33/50\n",
            "106/106 [==============================] - 1s 6ms/step - loss: 0.1080 - accuracy: 0.9679\n",
            "Epoch 34/50\n",
            "106/106 [==============================] - 1s 6ms/step - loss: 0.1043 - accuracy: 0.9690\n",
            "Epoch 35/50\n",
            "106/106 [==============================] - 1s 6ms/step - loss: 0.1009 - accuracy: 0.9697\n",
            "Epoch 36/50\n",
            "106/106 [==============================] - 1s 6ms/step - loss: 0.0993 - accuracy: 0.9698\n",
            "Epoch 37/50\n",
            "106/106 [==============================] - 1s 6ms/step - loss: 0.0964 - accuracy: 0.9716\n",
            "Epoch 38/50\n",
            "106/106 [==============================] - 1s 6ms/step - loss: 0.0958 - accuracy: 0.9712\n",
            "Epoch 39/50\n",
            "106/106 [==============================] - 1s 6ms/step - loss: 0.0931 - accuracy: 0.9719\n",
            "Epoch 40/50\n",
            "106/106 [==============================] - 1s 6ms/step - loss: 0.0940 - accuracy: 0.9715\n",
            "Epoch 41/50\n",
            "106/106 [==============================] - 1s 6ms/step - loss: 0.0911 - accuracy: 0.9721\n",
            "Epoch 42/50\n",
            "106/106 [==============================] - 1s 6ms/step - loss: 0.0882 - accuracy: 0.9728\n",
            "Epoch 43/50\n",
            "106/106 [==============================] - 1s 6ms/step - loss: 0.0883 - accuracy: 0.9732\n",
            "Epoch 44/50\n",
            "106/106 [==============================] - 1s 6ms/step - loss: 0.0898 - accuracy: 0.9721\n",
            "Epoch 45/50\n",
            "106/106 [==============================] - 1s 6ms/step - loss: 0.0860 - accuracy: 0.9737\n",
            "Epoch 46/50\n",
            "106/106 [==============================] - 1s 6ms/step - loss: 0.0837 - accuracy: 0.9741\n",
            "Epoch 47/50\n",
            "106/106 [==============================] - 1s 6ms/step - loss: 0.0834 - accuracy: 0.9744\n",
            "Epoch 48/50\n",
            "106/106 [==============================] - 1s 6ms/step - loss: 0.0827 - accuracy: 0.9744\n",
            "Epoch 49/50\n",
            "106/106 [==============================] - 1s 6ms/step - loss: 0.0816 - accuracy: 0.9756\n",
            "Epoch 50/50\n",
            "106/106 [==============================] - 1s 6ms/step - loss: 0.0786 - accuracy: 0.9758\n",
            "188/188 [==============================] - 1s 2ms/step - loss: 0.1432 - accuracy: 0.9640\n",
            "Accuracy: 0.9639999866485596, Loss: 0.14315350353717804\n"
          ]
        }
      ]
    },
    {
      "cell_type": "markdown",
      "source": [
        "2. Model 2D"
      ],
      "metadata": {
        "id": "TEv7VA2X12OZ"
      }
    },
    {
      "cell_type": "code",
      "source": [
        "batch_size = 512\n",
        "epochs = 10\n",
        "\n",
        "model2.fit(x=X2_train, y=y2_train, batch_size=batch_size, epochs=epochs)\n",
        "\n",
        "test_loss, test_acc = model2.evaluate(X2_test, y2_test)\n",
        "\n",
        "print('Accuracy: {}, Loss: {}'.format(test_acc, test_loss))"
      ],
      "metadata": {
        "colab": {
          "base_uri": "https://localhost:8080/"
        },
        "id": "RMaoQ7nT-e37",
        "outputId": "9a9324a7-95cc-4535-90d6-14c0670d6914"
      },
      "execution_count": 13,
      "outputs": [
        {
          "output_type": "stream",
          "name": "stdout",
          "text": [
            "Epoch 1/10\n",
            "106/106 [==============================] - 23s 215ms/step - loss: 0.6981 - accuracy: 0.8295\n",
            "Epoch 2/10\n",
            "106/106 [==============================] - 23s 214ms/step - loss: 0.2499 - accuracy: 0.9282\n",
            "Epoch 3/10\n",
            "106/106 [==============================] - 24s 223ms/step - loss: 0.1780 - accuracy: 0.9492\n",
            "Epoch 4/10\n",
            "106/106 [==============================] - 23s 215ms/step - loss: 0.1373 - accuracy: 0.9604\n",
            "Epoch 5/10\n",
            "106/106 [==============================] - 23s 213ms/step - loss: 0.1146 - accuracy: 0.9681\n",
            "Epoch 6/10\n",
            "106/106 [==============================] - 23s 213ms/step - loss: 0.1017 - accuracy: 0.9713\n",
            "Epoch 7/10\n",
            "106/106 [==============================] - 23s 213ms/step - loss: 0.0913 - accuracy: 0.9736\n",
            "Epoch 8/10\n",
            "106/106 [==============================] - 23s 215ms/step - loss: 0.0840 - accuracy: 0.9755\n",
            "Epoch 9/10\n",
            "106/106 [==============================] - 23s 215ms/step - loss: 0.0781 - accuracy: 0.9774\n",
            "Epoch 10/10\n",
            "106/106 [==============================] - 23s 213ms/step - loss: 0.0748 - accuracy: 0.9777\n",
            "188/188 [==============================] - 1s 6ms/step - loss: 0.0678 - accuracy: 0.9787\n",
            "Accuracy: 0.9786666631698608, Loss: 0.0678354948759079\n"
          ]
        }
      ]
    },
    {
      "cell_type": "markdown",
      "source": [
        "# Predict"
      ],
      "metadata": {
        "id": "Ls6Htmy-2TLp"
      }
    },
    {
      "cell_type": "markdown",
      "source": [
        "1. Model 1D"
      ],
      "metadata": {
        "id": "jBPz0eRX3Atq"
      }
    },
    {
      "cell_type": "code",
      "source": [
        "y_pred1 = model1.predict(test_X1)\n",
        "y_pred1_classes = np.argmax(y_pred1, axis=1)\n",
        "\n",
        "# Single Example\n",
        "random_idx = np.random.choice(len(test_X1))\n",
        "x_sample = test_X[random_idx]\n",
        "y_true = np.argmax(test_y, axis=1)\n",
        "y_sample_true = y_true[random_idx]\n",
        "y_sample_pred_class = y_pred1_classes[random_idx]\n",
        "\n",
        "plt.title(\"Predicted: {}, True: {}\".format(y_sample_pred_class, y_sample_true), fontsize=16)\n",
        "plt.imshow(x_sample.reshape(28, 28), cmap='gray')"
      ],
      "metadata": {
        "colab": {
          "base_uri": "https://localhost:8080/",
          "height": 300
        },
        "id": "SEnNzqz8FMps",
        "outputId": "fd784d26-63e6-42b8-c04b-c33b975e789e"
      },
      "execution_count": 14,
      "outputs": [
        {
          "output_type": "execute_result",
          "data": {
            "text/plain": [
              "<matplotlib.image.AxesImage at 0x7f159ae87750>"
            ]
          },
          "metadata": {},
          "execution_count": 14
        },
        {
          "output_type": "display_data",
          "data": {
            "image/png": "[encoded data removed]",
            "text/plain": [
              "<Figure size 432x288 with 1 Axes>"
            ]
          },
          "metadata": {
            "needs_background": "light"
          }
        }
      ]
    },
    {
      "cell_type": "markdown",
      "source": [
        "2. Model 2D"
      ],
      "metadata": {
        "id": "ViJSYYbF3CWY"
      }
    },
    {
      "cell_type": "code",
      "source": [
        "y_pred2 = model2.predict(test_X2)\n",
        "y_pred2_classes = np.argmax(y_pred1, axis=1)\n",
        "\n",
        "# Single Example\n",
        "random_idx = np.random.choice(len(test_X2))\n",
        "x_sample = test_X[random_idx]\n",
        "y_true = np.argmax(test_y, axis=1)\n",
        "y_sample_true = y_true[random_idx]\n",
        "y_sample_pred_class = y_pred2_classes[random_idx]\n",
        "\n",
        "plt.title(\"Predicted: {}, True: {}\".format(y_sample_pred_class, y_sample_true), fontsize=16)\n",
        "plt.imshow(x_sample.reshape(28, 28), cmap='gray')"
      ],
      "metadata": {
        "colab": {
          "base_uri": "https://localhost:8080/",
          "height": 300
        },
        "id": "GYgLrSMo3DzI",
        "outputId": "e74ee503-9326-457d-f831-6d2b570f9b53"
      },
      "execution_count": 15,
      "outputs": [
        {
          "output_type": "execute_result",
          "data": {
            "text/plain": [
              "<matplotlib.image.AxesImage at 0x7f159ade42d0>"
            ]
          },
          "metadata": {},
          "execution_count": 15
        },
        {
          "output_type": "display_data",
          "data": {
            "image/png": "[encoded data removed]",
            "text/plain": [
              "<Figure size 432x288 with 1 Axes>"
            ]
          },
          "metadata": {
            "needs_background": "light"
          }
        }
      ]
    },
    {
      "cell_type": "markdown",
      "source": [
        "# Confusion matrix"
      ],
      "metadata": {
        "id": "itmwbMdo4lgM"
      }
    },
    {
      "cell_type": "code",
      "source": [
        "mtx1 = confusion_matrix(y_true, y_pred1_classes)\n",
        "mtx2 = confusion_matrix(y_true, y_pred2_classes)\n",
        "\n",
        "fig, ax = plt.subplots(1, 2, figsize=(30,10))\n",
        "\n",
        "ax[0] = sns.heatmap(mtx1, annot=True, fmt='d', ax=ax[0], cmap='Blues')\n",
        "ax[0].set_xlabel(\"Predicted label\")\n",
        "ax[0].set_ylabel(\"True label\")\n",
        "ax[0].set_title(\"Confusion matrix model 1D\")\n",
        "\n",
        "ax[1] = sns.heatmap(mtx2, annot=True, fmt='d', ax=ax[1], cmap='Greens')\n",
        "ax[1].set_xlabel(\"Predicted label\")\n",
        "ax[1].set_ylabel(\"True label\")\n",
        "ax[1].set_title(\"Confusion matrix model 2D\")"
      ],
      "metadata": {
        "colab": {
          "base_uri": "https://localhost:8080/",
          "height": 486
        },
        "id": "z-COaBwi4oD7",
        "outputId": "0f6d05dd-e6ca-4331-dec9-b675595ce0d6"
      },
      "execution_count": 21,
      "outputs": [
        {
          "output_type": "execute_result",
          "data": {
            "text/plain": [
              "Text(0.5, 1.0, 'Confusion matrix model 2D')"
            ]
          },
          "metadata": {},
          "execution_count": 21
        },
        {
          "output_type": "display_data",
          "data": {
            "image/png": "[encoded data removed]",
            "text/plain": [
              "<Figure size 2160x720 with 4 Axes>"
            ]
          },
          "metadata": {
            "needs_background": "light"
          }
        }
      ]
    }
  ]
}